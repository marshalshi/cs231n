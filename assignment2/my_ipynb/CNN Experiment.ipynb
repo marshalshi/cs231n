{
 "cells": [
  {
   "cell_type": "code",
   "execution_count": 1,
   "metadata": {
    "collapsed": false
   },
   "outputs": [
    {
     "name": "stdout",
     "output_type": "stream",
     "text": [
      "/Users/shuai/Marshal/Mine/analysis/CS231n/assignment2\n"
     ]
    }
   ],
   "source": [
    "cd .."
   ]
  },
  {
   "cell_type": "code",
   "execution_count": 2,
   "metadata": {
    "collapsed": false
   },
   "outputs": [],
   "source": [
    "# As usual, a bit of setup\n",
    "\n",
    "import numpy as np\n",
    "import matplotlib.pyplot as plt\n",
    "from cs231n.classifiers.multi_cnn import *\n",
    "from cs231n.data_utils import get_CIFAR10_data\n",
    "from cs231n.gradient_check import eval_numerical_gradient_array, eval_numerical_gradient\n",
    "from cs231n.layers import *\n",
    "from cs231n.fast_layers import *\n",
    "from cs231n.solver import Solver\n",
    "\n",
    "%matplotlib inline\n",
    "plt.rcParams['figure.figsize'] = (10.0, 8.0) # set default size of plots\n",
    "plt.rcParams['image.interpolation'] = 'nearest'\n",
    "plt.rcParams['image.cmap'] = 'gray'\n",
    "\n",
    "# for auto-reloading external modules\n",
    "# see http://stackoverflow.com/questions/1907993/autoreload-of-modules-in-ipython\n",
    "%load_ext autoreload\n",
    "%autoreload 2\n",
    "\n",
    "def rel_error(x, y):\n",
    "  \"\"\" returns relative error \"\"\"\n",
    "  return np.max(np.abs(x - y) / (np.maximum(1e-8, np.abs(x) + np.abs(y))))"
   ]
  },
  {
   "cell_type": "code",
   "execution_count": 3,
   "metadata": {
    "collapsed": false
   },
   "outputs": [
    {
     "name": "stdout",
     "output_type": "stream",
     "text": [
      "X_val:  (1000, 3, 32, 32)\n",
      "X_train:  (49000, 3, 32, 32)\n",
      "X_test:  (1000, 3, 32, 32)\n",
      "y_val:  (1000,)\n",
      "y_train:  (49000,)\n",
      "y_test:  (1000,)\n"
     ]
    }
   ],
   "source": [
    "# Load the (preprocessed) CIFAR10 data.\n",
    "\n",
    "data = get_CIFAR10_data()\n",
    "for k, v in data.iteritems():\n",
    "  print '%s: ' % k, v.shape"
   ]
  },
  {
   "cell_type": "code",
   "execution_count": 19,
   "metadata": {
    "collapsed": false
   },
   "outputs": [
    {
     "name": "stdout",
     "output_type": "stream",
     "text": [
      "(Iteration 1 / 20) loss: 4.819705\n",
      "(Epoch 0 / 10) train acc: 0.200000; val_acc: 0.087000\n",
      "(Iteration 2 / 20) loss: 4.370957\n",
      "(Epoch 1 / 10) train acc: 0.190000; val_acc: 0.102000\n",
      "(Iteration 3 / 20) loss: 4.029868\n",
      "(Iteration 4 / 20) loss: 3.567899\n",
      "(Epoch 2 / 10) train acc: 0.370000; val_acc: 0.122000\n",
      "(Iteration 5 / 20) loss: 3.191810\n",
      "(Iteration 6 / 20) loss: 3.131648\n",
      "(Epoch 3 / 10) train acc: 0.560000; val_acc: 0.128000\n",
      "(Iteration 7 / 20) loss: 2.839228\n",
      "(Iteration 8 / 20) loss: 2.925328\n",
      "(Epoch 4 / 10) train acc: 0.700000; val_acc: 0.158000\n",
      "(Iteration 9 / 20) loss: 2.580078\n",
      "(Iteration 10 / 20) loss: 2.246305\n",
      "(Epoch 5 / 10) train acc: 0.780000; val_acc: 0.171000\n",
      "(Iteration 11 / 20) loss: 2.284289\n",
      "(Iteration 12 / 20) loss: 2.404982\n",
      "(Epoch 6 / 10) train acc: 0.860000; val_acc: 0.168000\n",
      "(Iteration 13 / 20) loss: 2.228474\n",
      "(Iteration 14 / 20) loss: 2.019189\n",
      "(Epoch 7 / 10) train acc: 0.940000; val_acc: 0.172000\n",
      "(Iteration 15 / 20) loss: 1.999624\n",
      "(Iteration 16 / 20) loss: 1.710674\n",
      "(Epoch 8 / 10) train acc: 0.930000; val_acc: 0.186000\n",
      "(Iteration 17 / 20) loss: 1.736415\n",
      "(Iteration 18 / 20) loss: 1.716007\n",
      "(Epoch 9 / 10) train acc: 0.980000; val_acc: 0.192000\n",
      "(Iteration 19 / 20) loss: 1.547964\n",
      "(Iteration 20 / 20) loss: 1.578457\n",
      "(Epoch 10 / 10) train acc: 0.990000; val_acc: 0.190000\n"
     ]
    }
   ],
   "source": [
    "num_train = 100\n",
    "small_data = {\n",
    "  'X_train': data['X_train'][:num_train],\n",
    "  'y_train': data['y_train'][:num_train],\n",
    "  'X_val': data['X_val'],\n",
    "  'y_val': data['y_val'],\n",
    "}\n",
    "\n",
    "filter_times = 4\n",
    "model = MultiLayersCNN(num_filters=[32,]*filter_times, \n",
    "                       filter_sizes=[3,]*filter_times, \n",
    "                       hidden_dims=[500, 200], \n",
    "                       reg=0.001, weight_scale=5e-2)\n",
    "\n",
    "solver = Solver(model, small_data,\n",
    "                num_epochs=10, batch_size=50,\n",
    "                update_rule='adam',\n",
    "                optim_config={\n",
    "                  'learning_rate': 1e-4,\n",
    "                },\n",
    "                verbose=True, print_every=1)\n",
    "solver.train()"
   ]
  },
  {
   "cell_type": "code",
   "execution_count": 20,
   "metadata": {
    "collapsed": false
   },
   "outputs": [
    {
     "data": {
      "image/png": "[encoded data removed]",
      "text/plain": [
       "<matplotlib.figure.Figure at 0x10cd76250>"
      ]
     },
     "metadata": {},
     "output_type": "display_data"
    }
   ],
   "source": [
    "plt.subplot(2, 1, 1)\n",
    "plt.plot(solver.loss_history, 'o')\n",
    "plt.xlabel('iteration')\n",
    "plt.ylabel('loss')\n",
    "\n",
    "plt.subplot(2, 1, 2)\n",
    "plt.plot(solver.train_acc_history, '-o')\n",
    "plt.plot(solver.val_acc_history, '-o')\n",
    "plt.legend(['train', 'val'], loc='upper left')\n",
    "plt.xlabel('epoch')\n",
    "plt.ylabel('accuracy')\n",
    "plt.show()"
   ]
  },
  {
   "cell_type": "code",
   "execution_count": null,
   "metadata": {
    "collapsed": true
   },
   "outputs": [],
   "source": []
  }
 ],
 "metadata": {
  "kernelspec": {
   "display_name": "Python 2",
   "language": "python",
   "name": "python2"
  },
  "language_info": {
   "codemirror_mode": {
    "name": "ipython",
    "version": 2
   },
   "file_extension": ".py",
   "mimetype": "text/x-python",
   "name": "python",
   "nbconvert_exporter": "python",
   "pygments_lexer": "ipython2",
   "version": "2.7.13"
  }
 },
 "nbformat": 4,
 "nbformat_minor": 2
}
